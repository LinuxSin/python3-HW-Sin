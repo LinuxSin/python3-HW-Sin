{
 "cells": [
  {
   "cell_type": "markdown",
   "id": "ceea5ce1-ab30-49ca-b857-fac0d46e7653",
   "metadata": {},
   "source": [
    "## 1.\tИспользуя набор данных data, сгенерируйте последовательность символов вида i наличие/отсутствие открывающейся скобки, число/буква, знак операции, число/буква, наличие/отсутствие закрывающейся скобки\n"
   ]
  },
  {
   "cell_type": "code",
   "execution_count": 1,
   "id": "96b041c1-7f24-45f4-88b0-622acd5c1ccd",
   "metadata": {},
   "outputs": [
    {
     "data": {
      "image/png": "[encoded data removed]",
      "text/plain": [
       "<Figure size 500x500 with 5 Axes>"
      ]
     },
     "metadata": {},
     "output_type": "display_data"
    }
   ],
   "source": [
    "import cv2\n",
    "import numpy as np\n",
    "from matplotlib import pyplot as plt\n",
    "\n",
    "# Открываем изображения\n",
    "img1 = cv2.imread('./data/(/(_113654.jpg')\n",
    "img2 = cv2.imread('./data/7/7_112751.jpg')\n",
    "img3 = cv2.imread('./data/+/+_113618.jpg')\n",
    "img4 = cv2.imread('./data/3/3_113672.jpg')\n",
    "img5 = cv2.imread('./data/)/)_111620.jpg')\n",
    "\n",
    "\n",
    "\n",
    "# Обработка первого изображения\n",
    "img1_gray = cv2.cvtColor(img1, cv2.COLOR_BGR2GRAY)\n",
    "kernel = np.ones((1,1),np.uint8)\n",
    "img1_gray = cv2.erode(img1_gray,kernel,iterations = 1)\n",
    "img1_gray = cv2.bitwise_not(img1_gray)\n",
    "base_size=img1_gray.shape[0]+6,img1_gray.shape[1]+6\n",
    "base1=np.zeros(base_size,dtype=np.uint8)\n",
    "base1[3:img1_gray.shape[0]+3,3:img1_gray.shape[1]+3]=img1_gray\n",
    "img1_rgb = cv2.cvtColor(base1, cv2.COLOR_GRAY2RGB)\n",
    "\n",
    "# Обработка второго изображения\n",
    "img2_gray = cv2.cvtColor(img2, cv2.COLOR_BGR2GRAY)\n",
    "kernel = np.ones((1,1),np.uint8)\n",
    "img2_gray = cv2.erode(img2_gray,kernel,iterations = 1)\n",
    "img2_gray = cv2.bitwise_not(img2_gray)\n",
    "base_size=img2_gray.shape[0]+6,img2_gray.shape[1]+6\n",
    "base2=np.zeros(base_size,dtype=np.uint8)\n",
    "base2[3:img2_gray.shape[0]+3,3:img2_gray.shape[1]+3]=img2_gray\n",
    "img2_rgb = cv2.cvtColor(base2, cv2.COLOR_GRAY2RGB)\n",
    "\n",
    "# Обработка 3 изображения\n",
    "img3_gray = cv2.cvtColor(img3, cv2.COLOR_BGR2GRAY)\n",
    "kernel = np.ones((1,1),np.uint8)\n",
    "img3_gray = cv2.erode(img3_gray,kernel,iterations = 1)\n",
    "img3_gray = cv2.bitwise_not(img3_gray)\n",
    "base_size=img3_gray.shape[0]+6,img3_gray.shape[1]+6\n",
    "base3=np.zeros(base_size,dtype=np.uint8)\n",
    "base3[3:img3_gray.shape[0]+3,3:img3_gray.shape[1]+3]=img3_gray\n",
    "img3_rgb = cv2.cvtColor(base3, cv2.COLOR_GRAY2RGB)\n",
    "\n",
    "# Обработка 4 изображения\n",
    "img4_gray = cv2.cvtColor(img4, cv2.COLOR_BGR2GRAY)\n",
    "kernel = np.ones((1,1),np.uint8)\n",
    "img4_gray = cv2.erode(img4_gray,kernel,iterations = 1)\n",
    "img4_gray = cv2.bitwise_not(img4_gray)\n",
    "base_size=img4_gray.shape[0]+6,img4_gray.shape[1]+6\n",
    "base4=np.zeros(base_size,dtype=np.uint8)\n",
    "base4[3:img4_gray.shape[0]+3,3:img4_gray.shape[1]+3]=img4_gray\n",
    "img4_rgb = cv2.cvtColor(base4, cv2.COLOR_GRAY2RGB)\n",
    "\n",
    "# Обработка 5 изображения\n",
    "img5_gray = cv2.cvtColor(img5, cv2.COLOR_BGR2GRAY)\n",
    "kernel = np.ones((1,1),np.uint8)\n",
    "img5_gray = cv2.erode(img5_gray,kernel,iterations = 1)\n",
    "img5_gray = cv2.bitwise_not(img5_gray)\n",
    "base_size=img5_gray.shape[0]+6,img5_gray.shape[1]+6\n",
    "base5=np.zeros(base_size,dtype=np.uint8)\n",
    "base5[3:img5_gray.shape[0]+3,3:img5_gray.shape[1]+3]=img5_gray\n",
    "img5_rgb = cv2.cvtColor(base5, cv2.COLOR_GRAY2RGB)\n",
    "\n",
    "\n",
    "# Отображение изображений\n",
    "plt.figure(figsize=(5,5))\n",
    "\n",
    "# Первое изображение\n",
    "plt.subplot(1, 5, 1) \n",
    "plt.imshow(img1_rgb)\n",
    "plt.title('Image 1')\n",
    "plt.axis('off')\n",
    "\n",
    "# Второе изображение\n",
    "plt.subplot(1, 5, 2)  \n",
    "plt.imshow(img2_rgb)\n",
    "plt.title('Image 2')\n",
    "plt.axis('off')\n",
    "# 3 изображение\n",
    "plt.subplot(1, 5, 3) \n",
    "plt.imshow(img3_rgb)\n",
    "plt.title('Image 3')\n",
    "plt.axis('off')\n",
    "\n",
    "plt.subplot(1, 5, 4)\n",
    "plt.imshow(img4_rgb)\n",
    "plt.title('Image 4')\n",
    "plt.axis('off')\n",
    "\n",
    "plt.subplot(1, 5, 5)  \n",
    "plt.imshow(img5_rgb)\n",
    "plt.title('Image 5')\n",
    "plt.axis('off')\n",
    "\n",
    "plt.subplots_adjust(wspace=0, hspace=0)\n",
    "\n",
    "\n",
    "plt.show()"
   ]
  },
  {
   "cell_type": "markdown",
   "id": "3f1e9a1e-f502-452a-973c-bdd3593f7b78",
   "metadata": {},
   "source": [
    "## b.\tСимволы соответствую классам данных архива data."
   ]
  },
  {
   "cell_type": "code",
   "execution_count": 2,
   "id": "7d7fd75a-53ad-4807-bff3-dd81a9b00dc0",
   "metadata": {},
   "outputs": [
    {
     "name": "stdout",
     "output_type": "stream",
     "text": [
      "Сгенерированная последовательность символов: (y,t)\n"
     ]
    }
   ],
   "source": [
    "import os\n",
    "import random\n",
    "import cv2\n",
    "import matplotlib.pyplot as plt\n",
    "\n",
    "# Путь к папке data\n",
    "data_dir = './data'\n",
    "\n",
    "# Получаем список классов (подпапок)\n",
    "classes = [cls for cls in os.listdir(data_dir) if os.path.isdir(os.path.join(data_dir, cls))]\n",
    "\n",
    "# Функция для получения случайного изображения из класса\n",
    "def get_random_image(class_name):\n",
    "    class_dir = os.path.join(data_dir, class_name)\n",
    "    images = os.listdir(class_dir)\n",
    "    random_image = random.choice(images)\n",
    "    return cv2.imread(os.path.join(class_dir, random_image))\n",
    "\n",
    "# Генерация последовательности символов\n",
    "sequence = []\n",
    "\n",
    "# 1. Наличие/отсутствие открывающей скобки\n",
    "if random.choice([True, False]):\n",
    "    sequence.append('(')\n",
    "    img1 = get_random_image('(')\n",
    "else:\n",
    "    img1 = None\n",
    "\n",
    "# 2. Число/буква\n",
    "number_or_letter = random.choice([cls for cls in classes if cls.isalnum()])  # Только буквы и цифры\n",
    "sequence.append(number_or_letter)\n",
    "img2 = get_random_image(number_or_letter)\n",
    "\n",
    "# 3. Знак операции\n",
    "operation = random.choice([cls for cls in classes if not cls.isalnum() and cls not in ['(', ')']])\n",
    "sequence.append(operation)\n",
    "img3 = get_random_image(operation)\n",
    "\n",
    "# 4. Число/буква\n",
    "number_or_letter2 = random.choice([cls for cls in classes if cls.isalnum()])\n",
    "sequence.append(number_or_letter2)\n",
    "img4 = get_random_image(number_or_letter2)\n",
    "\n",
    "# 5. Наличие/отсутствие закрывающей скобки\n",
    "if random.choice([True, False]):\n",
    "    sequence.append(')')\n",
    "    img5 = get_random_image(')')\n",
    "else:\n",
    "    img5 = None\n",
    "\n",
    "# Вывод последовательности\n",
    "print(\"Сгенерированная последовательность символов:\", ''.join(sequence))\n",
    "\n",
    "# Отображение изображений\n",
    "# plt.figure(figsize=(10, 5))\n",
    "\n",
    "# images = [img for img in [img1, img2, img3, img4, img5] if img is not None]\n",
    "# for i, img in enumerate(images):\n",
    "#     plt.subplot(1, len(images), i + 1)\n",
    "#     plt.imshow(cv2.cvtColor(img, cv2.COLOR_BGR2RGB))\n",
    "#     plt.axis('off')\n",
    "\n",
    "# plt.show()"
   ]
  },
  {
   "cell_type": "markdown",
   "id": "f157e0cb-4456-4508-bb48-1e8b2dd0c006",
   "metadata": {},
   "source": [
    "## c. На основе сгененированной последовательности создайте последовательность изображений символов, где каждому символу соотвествует случайное изображение набора данных соотвествующего класса."
   ]
  },
  {
   "cell_type": "code",
   "execution_count": 13,
   "id": "1f343c05-5522-42c9-8690-4d9c722aabdb",
   "metadata": {},
   "outputs": [
    {
     "name": "stdout",
     "output_type": "stream",
     "text": [
      "Сгенерированная последовательность символов: 8+3\n"
     ]
    },
    {
     "data": {
      "image/png": "[encoded data removed]",
      "text/plain": [
       "<Figure size 1000x500 with 3 Axes>"
      ]
     },
     "metadata": {},
     "output_type": "display_data"
    }
   ],
   "source": [
    "import os\n",
    "import random\n",
    "import cv2\n",
    "import matplotlib.pyplot as plt\n",
    "\n",
    "# Путь к папке data\n",
    "data_dir = './data'\n",
    "\n",
    "# Получаем список классов (подпапок)\n",
    "classes = [cls for cls in os.listdir(data_dir) if os.path.isdir(os.path.join(data_dir, cls))]\n",
    "\n",
    "# Функция для получения случайного изображения из класса\n",
    "def get_random_image(class_name):\n",
    "    class_dir = os.path.join(data_dir, class_name)\n",
    "    images = os.listdir(class_dir)\n",
    "    random_image = random.choice(images)\n",
    "    return cv2.imread(os.path.join(class_dir, random_image))\n",
    "\n",
    "# Генерация последовательности символов\n",
    "sequence = []\n",
    "\n",
    "# 1. Наличие/отсутствие открывающей скобки\n",
    "if random.choice([True, False]):\n",
    "    sequence.append('(')\n",
    "    img1 = get_random_image('(')\n",
    "else:\n",
    "    img1 = None\n",
    "\n",
    "# 2. Число/буква\n",
    "number_or_letter = random.choice([cls for cls in classes if cls.isalnum()])  # Только буквы и цифры\n",
    "sequence.append(number_or_letter)\n",
    "img2 = get_random_image(number_or_letter)\n",
    "\n",
    "# 3. Знак операции\n",
    "operation = random.choice([cls for cls in classes if not cls.isalnum() and cls not in ['(', ')']])\n",
    "sequence.append(operation)\n",
    "img3 = get_random_image(operation)\n",
    "\n",
    "# 4. Число/буква\n",
    "number_or_letter2 = random.choice([cls for cls in classes if cls.isalnum()])\n",
    "sequence.append(number_or_letter2)\n",
    "img4 = get_random_image(number_or_letter2)\n",
    "\n",
    "# 5. Наличие/отсутствие закрывающей скобки\n",
    "if random.choice([True, False]):\n",
    "    sequence.append(')')\n",
    "    img5 = get_random_image(')')\n",
    "else:\n",
    "    img5 = None\n",
    "\n",
    "# Вывод последовательности\n",
    "print(\"Сгенерированная последовательность символов:\", ''.join(sequence))\n",
    "\n",
    "# Отображение изображений\n",
    "plt.figure(figsize=(10, 5))\n",
    "\n",
    "images = [img for img in [img1, img2, img3, img4, img5] if img is not None]\n",
    "for i, img in enumerate(images):\n",
    "    plt.subplot(1, len(images), i + 1)\n",
    "    plt.imshow(cv2.cvtColor(img, cv2.COLOR_BGR2RGB))\n",
    "    plt.axis('off')\n",
    "\n",
    "plt.show()\n"
   ]
  },
  {
   "cell_type": "markdown",
   "id": "46b0358a-07d6-47e7-b717-693426219731",
   "metadata": {},
   "source": [
    "## d.\tОбучите метод knn для обучающей последовательности. Для обучающей выборки выберите 10-20 изображений каждого класса.\n"
   ]
  },
  {
   "cell_type": "code",
   "execution_count": 15,
   "id": "e563fb04-4e0e-4c4a-8e60-01972a4cb6f2",
   "metadata": {},
   "outputs": [
    {
     "name": "stdout",
     "output_type": "stream",
     "text": [
      "Точность модели kNN: 11.11%\n",
      "Предсказанный класс: ), Истинный класс: 3\n"
     ]
    },
    {
     "data": {
      "image/png": "[encoded data removed]",
      "text/plain": [
       "<Figure size 640x480 with 1 Axes>"
      ]
     },
     "metadata": {},
     "output_type": "display_data"
    }
   ],
   "source": [
    "import os\n",
    "import random\n",
    "import cv2\n",
    "import numpy as np\n",
    "from sklearn.neighbors import KNeighborsClassifier\n",
    "from sklearn.model_selection import train_test_split\n",
    "from sklearn.metrics import accuracy_score\n",
    "\n",
    "# Путь к папке data\n",
    "data_dir = './data'\n",
    "\n",
    "# Получаем список классов (подпапок)\n",
    "classes = [cls for cls in os.listdir(data_dir) if os.path.isdir(os.path.join(data_dir, cls))]\n",
    "\n",
    "# Функция для загрузки изображений и их меток\n",
    "def load_images_and_labels(classes, data_dir, images_per_class=10):\n",
    "    X = []  # Признаки (изображения)\n",
    "    y = []  # Метки (классы)\n",
    "\n",
    "    for class_name in classes:\n",
    "        class_dir = os.path.join(data_dir, class_name)\n",
    "        images = os.listdir(class_dir)\n",
    "        selected_images = random.sample(images, min(images_per_class, len(images)))  # Выбираем случайные изображения\n",
    "\n",
    "        for img_name in selected_images:\n",
    "            img_path = os.path.join(class_dir, img_name)\n",
    "            img = cv2.imread(img_path, cv2.IMREAD_GRAYSCALE)  # Читаем изображение в градациях серого\n",
    "            img = cv2.resize(img, (32, 32))  # Приводим изображение к фиксированному размеру\n",
    "            img_flat = img.flatten()  # Преобразуем изображение в одномерный массив\n",
    "            X.append(img_flat)\n",
    "            y.append(class_name)\n",
    "\n",
    "    return np.array(X), np.array(y)\n",
    "\n",
    "# Загружаем данные\n",
    "X, y = load_images_and_labels(classes, data_dir, images_per_class=15)\n",
    "\n",
    "# Разделяем данные на обучающую и тестовую выборки\n",
    "X_train, X_test, y_train, y_test = train_test_split(X, y, test_size=0.2, random_state=42)\n",
    "\n",
    "# Создаем и обучаем модель kNN\n",
    "knn = KNeighborsClassifier(n_neighbors=3)  # Можно изменить количество соседей\n",
    "knn.fit(X_train, y_train)\n",
    "\n",
    "# Предсказываем метки для тестовой выборки\n",
    "y_pred = knn.predict(X_test)\n",
    "\n",
    "# Оцениваем точность модели\n",
    "accuracy = accuracy_score(y_test, y_pred)\n",
    "print(f\"Точность модели kNN: {accuracy * 100:.2f}%\")\n",
    "\n",
    "# Пример предсказания для одного изображения\n",
    "random_index = random.randint(0, len(X_test) - 1)\n",
    "test_image = X_test[random_index].reshape(32, 32)  # Восстанавливаем форму изображения\n",
    "predicted_class = knn.predict([X_test[random_index]])[0]\n",
    "true_class = y_test[random_index]\n",
    "\n",
    "print(f\"Предсказанный класс: {predicted_class}, Истинный класс: {true_class}\")\n",
    "\n",
    "# Отображение тестового изображения\n",
    "import matplotlib.pyplot as plt\n",
    "plt.imshow(test_image, cmap='gray')\n",
    "plt.title(f\"Predicted: {predicted_class}, True: {true_class}\")\n",
    "plt.axis('off')\n",
    "plt.show()\n",
    "\n"
   ]
  },
  {
   "cell_type": "markdown",
   "id": "926ca8bb-44ca-4869-9226-619bc4e8f71c",
   "metadata": {},
   "source": [
    "## e.\tВыполните классификацию последовательности символов шага  с.\n"
   ]
  },
  {
   "cell_type": "code",
   "execution_count": 20,
   "id": "4fbf303b-81d8-4c53-8db6-729d2dd07a8c",
   "metadata": {},
   "outputs": [
    {
     "name": "stdout",
     "output_type": "stream",
     "text": [
      "Точность модели kNN: 12.70%\n",
      "Сгенерированная последовательность символов: (4-y\n"
     ]
    },
    {
     "data": {
      "image/png": "[encoded data removed]",
      "text/plain": [
       "<Figure size 1000x500 with 4 Axes>"
      ]
     },
     "metadata": {},
     "output_type": "display_data"
    }
   ],
   "source": [
    "\n",
    "import os\n",
    "import random\n",
    "import cv2\n",
    "import numpy as np\n",
    "from sklearn.neighbors import KNeighborsClassifier\n",
    "from sklearn.model_selection import train_test_split\n",
    "from sklearn.metrics import accuracy_score\n",
    "import matplotlib.pyplot as plt\n",
    "\n",
    "# Путь к папке data\n",
    "data_dir = './data'\n",
    "\n",
    "# Получаем список классов (подпапок)\n",
    "classes = [cls for cls in os.listdir(data_dir) if os.path.isdir(os.path.join(data_dir, cls))]\n",
    "\n",
    "# Функция для загрузки изображений и их меток\n",
    "def load_images_and_labels(classes, data_dir, images_per_class=10):\n",
    "    X = []  # Признаки (изображения)\n",
    "    y = []  # Метки (классы)\n",
    "\n",
    "    for class_name in classes:\n",
    "        class_dir = os.path.join(data_dir, class_name)\n",
    "        images = os.listdir(class_dir)\n",
    "        selected_images = random.sample(images, min(images_per_class, len(images)))  # Выбираем случайные изображения\n",
    "\n",
    "        for img_name in selected_images:\n",
    "            img_path = os.path.join(class_dir, img_name)\n",
    "            img = cv2.imread(img_path, cv2.IMREAD_GRAYSCALE)  # Читаем изображение в градациях серого\n",
    "            img = cv2.resize(img, (32, 32))  # Приводим изображение к фиксированному размеру\n",
    "            img_flat = img.flatten()  # Преобразуем изображение в одномерный массив\n",
    "            X.append(img_flat)\n",
    "            y.append(class_name)\n",
    "\n",
    "    return np.array(X), np.array(y)\n",
    "\n",
    "# Загружаем данные\n",
    "X, y = load_images_and_labels(classes, data_dir, images_per_class=15)\n",
    "\n",
    "# Разделяем данные на обучающую и тестовую выборки\n",
    "X_train, X_test, y_train, y_test = train_test_split(X, y, test_size=0.2, random_state=42)\n",
    "\n",
    "# Создаем и обучаем модель kNN\n",
    "knn = KNeighborsClassifier(n_neighbors=3)  # Можно изменить количество соседей\n",
    "knn.fit(X_train, y_train)\n",
    "\n",
    "# Предсказываем метки для тестовой выборки\n",
    "y_pred = knn.predict(X_test)\n",
    "\n",
    "# Оцениваем точность модели\n",
    "accuracy = accuracy_score(y_test, y_pred)\n",
    "print(f\"Точность модели kNN: {accuracy * 100:.2f}%\")\n",
    "\n",
    "# Функция для получения случайного изображения из класса\n",
    "def get_random_image(class_name):\n",
    "    class_dir = os.path.join(data_dir, class_name)\n",
    "    images = os.listdir(class_dir)\n",
    "    random_image = random.choice(images)\n",
    "    return cv2.imread(os.path.join(class_dir, random_image), cv2.IMREAD_GRAYSCALE)\n",
    "\n",
    "# Функция для генерации последовательности символов\n",
    "def generate_sequence():\n",
    "    sequence = []\n",
    "\n",
    "    # 1. Наличие/отсутствие открывающей скобки\n",
    "    if random.choice([True, False]):\n",
    "        sequence.append('(')\n",
    "        img1 = get_random_image('(')\n",
    "    else:\n",
    "        img1 = None\n",
    "\n",
    "    # 2. Число/буква\n",
    "    number_or_letter = random.choice([cls for cls in classes if cls.isalnum()])  # Только буквы и цифры\n",
    "    sequence.append(number_or_letter)\n",
    "    img2 = get_random_image(number_or_letter)\n",
    "\n",
    "    # 3. Знак операции\n",
    "    operation = random.choice([cls for cls in classes if not cls.isalnum() and cls not in ['(', ')']])\n",
    "    sequence.append(operation)\n",
    "    img3 = get_random_image(operation)\n",
    "\n",
    "    # 4. Число/буква\n",
    "    number_or_letter2 = random.choice([cls for cls in classes if cls.isalnum()])\n",
    "    sequence.append(number_or_letter2)\n",
    "    img4 = get_random_image(number_or_letter2)\n",
    "\n",
    "    # 5. Наличие/отсутствие закрывающей скобки\n",
    "    if random.choice([True, False]):\n",
    "        sequence.append(')')\n",
    "        img5 = get_random_image(')')\n",
    "    else:\n",
    "        img5 = None\n",
    "\n",
    "    # Вывод последовательности\n",
    "    print(\"Сгенерированная последовательность символов:\", ''.join(sequence))\n",
    "\n",
    "    # Отображение изображений\n",
    "    images = [img for img in [img1, img2, img3, img4, img5] if img is not None]\n",
    "    plt.figure(figsize=(10, 5))\n",
    "    for i, img in enumerate(images):\n",
    "        plt.subplot(1, len(images), i + 1)\n",
    "        plt.imshow(img, cmap='gray')\n",
    "        plt.axis('off')\n",
    "    plt.show()\n",
    "\n",
    "    return sequence, images\n",
    "\n",
    "# Генерация последовательности и предсказание символов\n",
    "sequence, images = generate_sequence()\n",
    "\n",
    "# Предсказание символов в последовательности\n",
    "predicted_symbols = []\n",
    "for img in images:\n",
    "    img_resized = cv2.resize(img, (32, 32))  # Приводим изображение к фиксированному размеру\n",
    "    img_flat = img_resized.flatten()  # Преобразуем изображение в одномерный массив\n",
    "    predicted_symbol = knn.predict([img_flat])[0]\n",
    "    predicted_symbols.append(predicted_symbol)\n",
    "\n",
    "\n",
    "\n"
   ]
  },
  {
   "cell_type": "markdown",
   "id": "22360870-ce9d-4b16-8417-f595fcd72cd9",
   "metadata": {},
   "source": [
    "## f.\tПри помощи регулярных строк проверьте полученное выражение на корректность.\n"
   ]
  },
  {
   "cell_type": "code",
   "execution_count": 34,
   "id": "15317144-d44a-4e9e-a00e-d9e1fcefe525",
   "metadata": {},
   "outputs": [
    {
     "name": "stdout",
     "output_type": "stream",
     "text": [
      "Точность модели kNN: 7.94%\n",
      "Сгенерированная последовательность символов: (X,y\n"
     ]
    },
    {
     "data": {
      "image/png": "[encoded data removed]",
      "text/plain": [
       "<Figure size 1000x500 with 4 Axes>"
      ]
     },
     "metadata": {},
     "output_type": "display_data"
    },
    {
     "name": "stdout",
     "output_type": "stream",
     "text": [
      "Выражение некорректно: ((()\n"
     ]
    }
   ],
   "source": [
    "import os\n",
    "import random\n",
    "import cv2\n",
    "import numpy as np\n",
    "from sklearn.neighbors import KNeighborsClassifier\n",
    "from sklearn.model_selection import train_test_split\n",
    "from sklearn.metrics import accuracy_score\n",
    "import matplotlib.pyplot as plt\n",
    "import re  # Импортируем модуль для работы с регулярными выражениями\n",
    "\n",
    "# Путь к папке data\n",
    "data_dir = './data'\n",
    "\n",
    "# Получаем список классов (подпапок)\n",
    "classes = [cls for cls in os.listdir(data_dir) if os.path.isdir(os.path.join(data_dir, cls))]\n",
    "\n",
    "# Функция для загрузки изображений и их меток\n",
    "def load_images_and_labels(classes, data_dir, images_per_class=10):\n",
    "    X = []  # Признаки (изображения)\n",
    "    y = []  # Метки (классы)\n",
    "\n",
    "    for class_name in classes:\n",
    "        class_dir = os.path.join(data_dir, class_name)\n",
    "        images = os.listdir(class_dir)\n",
    "        selected_images = random.sample(images, min(images_per_class, len(images)))  # Выбираем случайные изображения\n",
    "\n",
    "        for img_name in selected_images:\n",
    "            img_path = os.path.join(class_dir, img_name)\n",
    "            img = cv2.imread(img_path, cv2.IMREAD_GRAYSCALE)  # Читаем изображение в градациях серого\n",
    "            img = cv2.resize(img, (32, 32))  # Приводим изображение к фиксированному размеру\n",
    "            img_flat = img.flatten()  # Преобразуем изображение в одномерный массив\n",
    "            X.append(img_flat)\n",
    "            y.append(class_name)\n",
    "\n",
    "    return np.array(X), np.array(y)\n",
    "\n",
    "# Загружаем данные\n",
    "X, y = load_images_and_labels(classes, data_dir, images_per_class=15)\n",
    "\n",
    "# Разделяем данные на обучающую и тестовую выборки\n",
    "X_train, X_test, y_train, y_test = train_test_split(X, y, test_size=0.2, random_state=42)\n",
    "\n",
    "# Создаем и обучаем модель kNN\n",
    "knn = KNeighborsClassifier(n_neighbors=3)  # Можно изменить количество соседей\n",
    "knn.fit(X_train, y_train)\n",
    "\n",
    "# Предсказываем метки для тестовой выборки\n",
    "y_pred = knn.predict(X_test)\n",
    "\n",
    "# Оцениваем точность модели\n",
    "accuracy = accuracy_score(y_test, y_pred)\n",
    "print(f\"Точность модели kNN: {accuracy * 100:.2f}%\")\n",
    "\n",
    "# Функция для получения случайного изображения из класса\n",
    "def get_random_image(class_name):\n",
    "    class_dir = os.path.join(data_dir, class_name)\n",
    "    images = os.listdir(class_dir)\n",
    "    random_image = random.choice(images)\n",
    "    return cv2.imread(os.path.join(class_dir, random_image), cv2.IMREAD_GRAYSCALE)\n",
    "\n",
    "# Функция для генерации последовательности символов\n",
    "def generate_sequence():\n",
    "    sequence = []\n",
    "\n",
    "    # 1. Наличие/отсутствие открывающей скобки\n",
    "    if random.choice([True, False]):\n",
    "        sequence.append('(')\n",
    "        img1 = get_random_image('(')\n",
    "    else:\n",
    "        img1 = None\n",
    "\n",
    "    # 2. Число/буква\n",
    "    number_or_letter = random.choice([cls for cls in classes if cls.isalnum()])  # Только буквы и цифры\n",
    "    sequence.append(number_or_letter)\n",
    "    img2 = get_random_image(number_or_letter)\n",
    "\n",
    "    # 3. Знак операции\n",
    "    operation = random.choice([cls for cls in classes if not cls.isalnum() and cls not in ['(', ')']])\n",
    "    sequence.append(operation)\n",
    "    img3 = get_random_image(operation)\n",
    "\n",
    "    # 4. Число/буква\n",
    "    number_or_letter2 = random.choice([cls for cls in classes if cls.isalnum()])\n",
    "    sequence.append(number_or_letter2)\n",
    "    img4 = get_random_image(number_or_letter2)\n",
    "\n",
    "    # 5. Наличие/отсутствие закрывающей скобки\n",
    "    if random.choice([True, False]):\n",
    "        sequence.append(')')\n",
    "        img5 = get_random_image(')')\n",
    "    else:\n",
    "        img5 = None\n",
    "\n",
    "    # Вывод последовательности\n",
    "    print(\"Сгенерированная последовательность символов:\", ''.join(sequence))\n",
    "\n",
    "    # Отображение изображений\n",
    "    images = [img for img in [img1, img2, img3, img4, img5] if img is not None]\n",
    "    plt.figure(figsize=(10, 5))\n",
    "    for i, img in enumerate(images):\n",
    "        plt.subplot(1, len(images), i + 1)\n",
    "        plt.imshow(img, cmap='gray')\n",
    "        plt.axis('off')\n",
    "    plt.show()\n",
    "\n",
    "    return sequence, images\n",
    "\n",
    "# Генерация последовательности и предсказание символов\n",
    "sequence, images = generate_sequence()\n",
    "\n",
    "# Предсказание символов в последовательности\n",
    "predicted_symbols = []\n",
    "for img in images:\n",
    "    img_resized = cv2.resize(img, (32, 32))  # Приводим изображение к фиксированному размеру\n",
    "    img_flat = img_resized.flatten()  # Преобразуем изображение в одномерный массив\n",
    "    predicted_symbol = knn.predict([img_flat])[0]\n",
    "    predicted_symbols.append(predicted_symbol)\n",
    "\n",
    "# Формируем строку из предсказанных символов\n",
    "predicted_expression = ''.join(predicted_symbols)\n",
    "\n",
    "# Регулярное выражение для проверки корректности математического выражения\n",
    "# Проверяем наличие правильной структуры: числа/буквы, операторы, скобки\n",
    "expression_pattern = r'^(\\(?[a-zA-Z0-9]+\\)?)([\\+\\-\\*/](\\(?[a-zA-Z0-9]+\\)?))*$'\n",
    "\n",
    "# Проверка корректности выражения\n",
    "if re.match(expression_pattern, predicted_expression):\n",
    "    print(f\"Выражение корректно: {predicted_expression}\")\n",
    "else:\n",
    "    print(f\"Выражение некорректно: {predicted_expression}\")\n",
    "\n",
    "\n"
   ]
  },
  {
   "cell_type": "markdown",
   "id": "824ec7ab-8653-4424-a989-d5c2ecf45fe8",
   "metadata": {},
   "source": [
    "## g.\tЕсли выражение корректно, вычислите результат, закодированный арифметическим выражением."
   ]
  },
  {
   "cell_type": "code",
   "execution_count": 132,
   "id": "c914052b-33f1-4bc5-bfec-1645a6b28755",
   "metadata": {},
   "outputs": [
    {
     "name": "stdout",
     "output_type": "stream",
     "text": [
      "Сгенерированная последовательность символов: 6+5)\n",
      "Результат: 6 + 5 = 11\n"
     ]
    },
    {
     "data": {
      "image/png": "[encoded data removed]",
      "text/plain": [
       "<Figure size 1000x500 with 4 Axes>"
      ]
     },
     "metadata": {},
     "output_type": "display_data"
    }
   ],
   "source": [
    "import os\n",
    "import random\n",
    "import cv2\n",
    "import matplotlib.pyplot as plt\n",
    "\n",
    "# Путь к папке data\n",
    "data_dir = './data'\n",
    "\n",
    "# Получаем список классов (подпапок)\n",
    "classes = [cls for cls in os.listdir(data_dir) if os.path.isdir(os.path.join(data_dir, cls))]\n",
    "\n",
    "# Функция для получения случайного изображения из класса\n",
    "def get_random_image(class_name):\n",
    "    class_dir = os.path.join(data_dir, class_name)\n",
    "    images = os.listdir(class_dir)\n",
    "    random_image = random.choice(images)\n",
    "    return cv2.imread(os.path.join(class_dir, random_image))\n",
    "\n",
    "# Генерация последовательности символов\n",
    "sequence = []\n",
    "\n",
    "# 1. Наличие/отсутствие открывающей скобки\n",
    "if random.choice([True, False]):\n",
    "    sequence.append('(')\n",
    "    img1 = get_random_image('(')\n",
    "else:\n",
    "    img1 = None\n",
    "\n",
    "# 2. Число/буква\n",
    "number_or_letter = random.choice([cls for cls in classes if cls.isdigit()])  # Только цифры\n",
    "sequence.append(number_or_letter)\n",
    "img2 = get_random_image(number_or_letter)\n",
    "\n",
    "# 3. Знак операции\n",
    "operation = random.choice(['+', '-', '*', '/'])  # Ограничиваем допустимые операции\n",
    "sequence.append(operation)\n",
    "img3 = get_random_image(operation)\n",
    "\n",
    "# 4. Число/буква\n",
    "number_or_letter2 = random.choice([cls for cls in classes if cls.isdigit()])\n",
    "sequence.append(number_or_letter2)\n",
    "img4 = get_random_image(number_or_letter2)\n",
    "\n",
    "# 5. Наличие/отсутствие закрывающей скобки\n",
    "if random.choice([True, False]):\n",
    "    sequence.append(')')\n",
    "    img5 = get_random_image(')')\n",
    "else:\n",
    "    img5 = None\n",
    "\n",
    "# Вывод последовательности\n",
    "expression = ''.join(sequence)\n",
    "print(\"Сгенерированная последовательность символов:\", expression)\n",
    "\n",
    "# Проверка и вычисление результата\n",
    "try:\n",
    "    # Удаляем скобки если они есть\n",
    "    clean_expression = expression.replace('(', '').replace(')', '')\n",
    "\n",
    "    # Находим оператор\n",
    "    for op in ['+', '-', '*', '/']:\n",
    "        if op in clean_expression:\n",
    "            break\n",
    "\n",
    "    # Разделяем на операнды\n",
    "    num1, num2 = clean_expression.split(op)\n",
    "    num1 = int(num1.strip())  # Убираем возможные пробелы\n",
    "    num2 = int(num2.strip())  # Убираем возможные пробелы\n",
    "\n",
    "    # Выполняем операцию\n",
    "    if op == '+':\n",
    "        result = num1 + num2\n",
    "    elif op == '-':\n",
    "        result = num1 - num2\n",
    "    elif op == '*':\n",
    "        result = num1 * num2\n",
    "    elif op == '/':\n",
    "        result = num1 / num2\n",
    "\n",
    "    print(f\"Результат: {num1} {op} {num2} = {result}\")\n",
    "except Exception as e:\n",
    "    print(\"Выражение некорректно или не может быть вычислено\")\n",
    "    print(f\"Ошибка: {e}\")\n",
    "\n",
    "# Отображение изображений\n",
    "plt.figure(figsize=(10, 5))\n",
    "\n",
    "images = [img for img in [img1, img2, img3, img4, img5] if img is not None]\n",
    "for i, img in enumerate(images):\n",
    "    plt.subplot(1, len(images), i + 1)\n",
    "    plt.imshow(cv2.cvtColor(img, cv2.COLOR_BGR2RGB))\n",
    "    plt.axis('off')\n",
    "\n",
    "plt.show()\n",
    "\n",
    "\n",
    "\n"
   ]
  },
  {
   "cell_type": "markdown",
   "id": "a9a23d75-0937-4a2d-9b55-06b4bc3f27cf",
   "metadata": {},
   "source": [
    "# 2.\tИспользуя сгенерированный набор данных постройте кодирование исходного сгенерированного изображения в виде r’00001001...00000’. Длина символьной строки – количество патчей исходного изображения. (Исходное изображение разбивается на патчи, размер патча p x p, количество патчей n // p x m // p, патчи не пересекаются). 0  кодирует отсутствие клеток в данном патче, 1 кодирует наличие клеток в патче."
   ]
  },
  {
   "cell_type": "code",
   "execution_count": 148,
   "id": "f064e452-36e2-4a96-9e8e-cd860f01cf6b",
   "metadata": {},
   "outputs": [
    {
     "name": "stdout",
     "output_type": "stream",
     "text": [
      "Сгенерированная последовательность символов: (X-t)\n"
     ]
    },
    {
     "data": {
      "image/png": "[encoded data removed]",
      "text/plain": [
       "<Figure size 1000x500 with 1 Axes>"
      ]
     },
     "metadata": {},
     "output_type": "display_data"
    },
    {
     "name": "stdout",
     "output_type": "stream",
     "text": [
      "Изображение сохранено: ./RESULT/(X-t).png\n"
     ]
    }
   ],
   "source": [
    "import os\n",
    "import random\n",
    "import cv2\n",
    "import matplotlib.pyplot as plt\n",
    "import numpy as np\n",
    "\n",
    "# Путь к папке data\n",
    "data_dir = './data'\n",
    "\n",
    "# Путь для сохранения результата\n",
    "output_dir = './RESULT'  # Новое имя папки\n",
    "os.makedirs(output_dir, exist_ok=True)  # Создаем папку для результатов, если её нет\n",
    "\n",
    "# Получаем список классов (подпапок)\n",
    "classes = [cls for cls in os.listdir(data_dir) if os.path.isdir(os.path.join(data_dir, cls))]\n",
    "\n",
    "# Функция для получения случайного изображения из класса\n",
    "def get_random_image(class_name):\n",
    "    class_dir = os.path.join(data_dir, class_name)\n",
    "    images = os.listdir(class_dir)\n",
    "    random_image = random.choice(images)\n",
    "    return cv2.imread(os.path.join(class_dir, random_image))\n",
    "\n",
    "# Генерация последовательности символов\n",
    "sequence = []\n",
    "\n",
    "# Наличие/отсутствие открывающей скобки\n",
    "if random.choice([True, False]):\n",
    "    sequence.append('(')\n",
    "    img1 = get_random_image('(')\n",
    "else:\n",
    "    img1 = None\n",
    "\n",
    "# Число/буква\n",
    "number_or_letter = random.choice([cls for cls in classes if cls.isalnum()])  # Только буквы и цифры\n",
    "sequence.append(number_or_letter)\n",
    "img2 = get_random_image(number_or_letter)\n",
    "\n",
    "# Знак операции\n",
    "operation = random.choice([cls for cls in classes if not cls.isalnum() and cls not in ['(', ')']])\n",
    "sequence.append(operation)\n",
    "img3 = get_random_image(operation)\n",
    "\n",
    "# Число/буква\n",
    "number_or_letter2 = random.choice([cls for cls in classes if cls.isalnum()])\n",
    "sequence.append(number_or_letter2)\n",
    "img4 = get_random_image(number_or_letter2)\n",
    "\n",
    "# Наличие/отсутствие закрывающей скобки\n",
    "if random.choice([True, False]):\n",
    "    sequence.append(')')\n",
    "    img5 = get_random_image(')')\n",
    "else:\n",
    "    img5 = None\n",
    "\n",
    "# Вывод последовательности\n",
    "print(\"Сгенерированная последовательность символов:\", ''.join(sequence))\n",
    "\n",
    "# Отображение изображений\n",
    "images = [img for img in [img1, img2, img3, img4, img5] if img is not None]\n",
    "\n",
    "# Определяем максимальную высоту и общую ширину\n",
    "max_height = max(img.shape[0] for img in images)\n",
    "total_width = sum(img.shape[1] for img in images)\n",
    "\n",
    "# Создаем новое изображение для объединения\n",
    "combined_image = np.zeros((max_height, total_width, 3), dtype=np.uint8)\n",
    "\n",
    "# Объединяем изображения горизонтально\n",
    "current_x = 0\n",
    "for img in images:\n",
    "    h, w = img.shape[:2]\n",
    "    combined_image[:h, current_x:current_x+w] = img\n",
    "    current_x += w\n",
    "\n",
    "# Сохраняем объединенное изображение\n",
    "output_path = os.path.join(output_dir, f\"{''.join(sequence)}.png\")\n",
    "cv2.imwrite(output_path, combined_image)\n",
    "\n",
    "# Отображаем объединенное изображение\n",
    "plt.figure(figsize=(10, 5))\n",
    "plt.imshow(cv2.cvtColor(combined_image, cv2.COLOR_BGR2RGB))\n",
    "plt.axis('off')\n",
    "plt.title('Combined Image')\n",
    "plt.show()\n",
    "\n",
    "print(f\"Изображение сохранено: {output_path}\")\n",
    "\n"
   ]
  },
  {
   "cell_type": "code",
   "execution_count": 204,
   "id": "c0578102-5b03-496d-8f53-62ec70d9e634",
   "metadata": {},
   "outputs": [
    {
     "data": {
      "image/png": "[encoded data removed]",
      "text/plain": [
       "<Figure size 640x480 with 1 Axes>"
      ]
     },
     "metadata": {},
     "output_type": "display_data"
    }
   ],
   "source": [
    "import cv2\n",
    "import numpy as np\n",
    "from matplotlib import pyplot as plt\n",
    "  \n",
    "# Opening image\n",
    "img = cv2.imread('./RESULT/(X-t).png')\n",
    "\n",
    "img_gray = cv2.cvtColor(img, cv2.COLOR_BGR2GRAY)\n",
    "kernel = np.ones((1,1),np.uint8)\n",
    "img_gray = cv2.erode(img_gray,kernel,iterations = 1)\n",
    "img_gray = cv2.bitwise_not(img_gray)\n",
    "base_size=img_gray.shape[0]+6,img_gray.shape[1]+6\n",
    "base=np.zeros(base_size,dtype=np.uint8)\n",
    "base[3:img_gray.shape[0]+3,3:img_gray.shape[1]+3]=img_gray\n",
    "base = cv2.cvtColor(base, cv2.COLOR_GRAY2RGB)\n",
    "\n",
    "img_rgb = base\n",
    "\n",
    "#img_rgb = cv2.bitwise_not(img_rgb)\n",
    "plt.subplot(1, 1, 1)\n",
    "plt.imshow(img_rgb)\n",
    "plt.show()\n"
   ]
  },
  {
   "cell_type": "code",
   "execution_count": 205,
   "id": "bc15c1c4-c71b-4914-b261-10a3bc0eb669",
   "metadata": {},
   "outputs": [
    {
     "name": "stdout",
     "output_type": "stream",
     "text": [
      "(51, 231, 3)\n"
     ]
    },
    {
     "data": {
      "image/png": "[encoded data removed]",
      "text/plain": [
       "<Figure size 640x480 with 1 Axes>"
      ]
     },
     "metadata": {},
     "output_type": "display_data"
    }
   ],
   "source": [
    "ret,thresh = cv2.threshold(img_rgb,127,255,0)\n",
    "print(thresh.shape)\n",
    "plt.subplot(1, 1, 1)\n",
    "thresh = np.uint8(thresh)\n",
    "#thresh = cv2.cvtColor(thresh, cv2.COLOR_RGB2GRAY)\n",
    "#thresh = np.array(thresh,dtype=np.uint8)\n",
    "plt.imshow(thresh)\n",
    "plt.show()"
   ]
  },
  {
   "cell_type": "code",
   "execution_count": 153,
   "id": "d1d2a148-bfc3-4de4-aa9d-93ec052016ab",
   "metadata": {},
   "outputs": [],
   "source": [
    "contours,h = cv2.findContours(thresh[:,:,0], cv2.RETR_EXTERNAL, 2)"
   ]
  },
  {
   "cell_type": "code",
   "execution_count": 154,
   "id": "a04cd46f-f142-46b5-b371-5bfa9e969c4b",
   "metadata": {},
   "outputs": [
    {
     "name": "stdout",
     "output_type": "stream",
     "text": [
      "5\n"
     ]
    }
   ],
   "source": [
    "print(len(contours))"
   ]
  },
  {
   "cell_type": "code",
   "execution_count": 206,
   "id": "518b8d26-ede9-44b5-bc07-9cb0a985d0d8",
   "metadata": {},
   "outputs": [
    {
     "name": "stdout",
     "output_type": "stream",
     "text": [
      "[[93, 25, 46, 2], [201, 3, 9, 45], [141, 3, 40, 45], [51, 3, 40, 45], [19, 3, 13, 45]]\n"
     ]
    }
   ],
   "source": [
    "crops = []\n",
    "for i in range(len(contours)):\n",
    "    cnt = contours[i]\n",
    "    area = cv2.contourArea(cnt)\n",
    "    x,y,w,h = cv2.boundingRect(cnt)\n",
    "    if w*h > 50:\n",
    "        cv2.rectangle(img_rgb, (x,y), (x+w,y+h), (0,255,0), 1)  # BGR\n",
    "        ret,thresh = cv2.threshold(img_gray[y:y+h, x:x+w], 127, 255, 0)\n",
    "        crops.append([x,y,w,h])\n",
    "img_rgb = cv2.cvtColor(img_rgb, cv2.COLOR_BGR2RGB)\n",
    "print(crops)"
   ]
  },
  {
   "cell_type": "code",
   "execution_count": 207,
   "id": "1b31ba35-1ddf-4a5a-afe9-fb5f0d575b6e",
   "metadata": {},
   "outputs": [
    {
     "data": {
      "image/png": "[encoded data removed]",
      "text/plain": [
       "<Figure size 640x480 with 1 Axes>"
      ]
     },
     "metadata": {},
     "output_type": "display_data"
    }
   ],
   "source": [
    "plt.subplot(1, 1, 1)\n",
    "plt.imshow(img_rgb)\n",
    "plt.show()"
   ]
  },
  {
   "cell_type": "code",
   "execution_count": 218,
   "id": "76a9674d-f3fb-4d2e-a456-39c4b76fc254",
   "metadata": {},
   "outputs": [
    {
     "data": {
      "image/png": "[encoded data removed]",
      "text/plain": [
       "<Figure size 640x480 with 1 Axes>"
      ]
     },
     "metadata": {},
     "output_type": "display_data"
    },
    {
     "data": {
      "image/png": "[encoded data removed]",
      "text/plain": [
       "<Figure size 640x480 with 1 Axes>"
      ]
     },
     "metadata": {},
     "output_type": "display_data"
    },
    {
     "data": {
      "image/png": "[encoded data removed]",
      "text/plain": [
       "<Figure size 640x480 with 1 Axes>"
      ]
     },
     "metadata": {},
     "output_type": "display_data"
    },
    {
     "data": {
      "image/png": "[encoded data removed]",
      "text/plain": [
       "<Figure size 640x480 with 1 Axes>"
      ]
     },
     "metadata": {},
     "output_type": "display_data"
    },
    {
     "data": {
      "image/png": "[encoded data removed]",
      "text/plain": [
       "<Figure size 640x480 with 1 Axes>"
      ]
     },
     "metadata": {},
     "output_type": "display_data"
    }
   ],
   "source": [
    "data_img= []\n",
    "#plt.subplot(1, 1, 1)\n",
    "for i in range(len(crops)):\n",
    "    x,y,w,h = crops[i]\n",
    "    x-=3\n",
    "    y-=3\n",
    "    w+=5\n",
    "    h+=3\n",
    "    img = img_gray[y:y+h, x:x+w]\n",
    "    base_size=img.shape[0]+2,img.shape[1]+30\n",
    "    base=np.zeros(base_size,dtype=np.uint8)\n",
    "    base[1:img.shape[0]+1,15:img.shape[1]+15]=img\n",
    "    #plt.imshow(img_gray[y:y+h, x:x+w], cmap=\"gray\")\n",
    "    plt.imshow(base, cmap=\"gray\")\n",
    "    data_img.append((x,base))\n",
    "    plt.show()"
   ]
  },
  {
   "cell_type": "code",
   "execution_count": null,
   "id": "7bff395e-f8d3-4dbc-9a90-a0e9d1297bd8",
   "metadata": {},
   "outputs": [],
   "source": []
  },
  {
   "cell_type": "code",
   "execution_count": null,
   "id": "75d14d4d-0b8b-4f66-ab96-072d0397c764",
   "metadata": {},
   "outputs": [],
   "source": []
  }
 ],
 "metadata": {
  "kernelspec": {
   "display_name": "Python 3 (ipykernel)",
   "language": "python",
   "name": "python3"
  },
  "language_info": {
   "codemirror_mode": {
    "name": "ipython",
    "version": 3
   },
   "file_extension": ".py",
   "mimetype": "text/x-python",
   "name": "python",
   "nbconvert_exporter": "python",
   "pygments_lexer": "ipython3",
   "version": "3.12.3"
  }
 },
 "nbformat": 4,
 "nbformat_minor": 5
}
